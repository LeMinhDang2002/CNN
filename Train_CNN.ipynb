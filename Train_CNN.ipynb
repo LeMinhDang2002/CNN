{
 "cells": [
  {
   "cell_type": "code",
   "execution_count": 3,
   "metadata": {},
   "outputs": [],
   "source": [
    "import numpy as np\n",
    "from keras.models import Sequential\n",
    "from keras.src.layers import Dense\n",
    "from keras.src.utils import np_utils\n",
    "from keras.layers import Dropout\n",
    "from keras.layers import Flatten\n",
    "from keras.src.layers.convolutional import Conv1D\n",
    "from keras.src.layers.convolutional import Conv2D\n",
    "from keras.src.layers.convolutional import MaxPooling2D\n",
    "from keras.datasets import mnist\n",
    "import matplotlib.pyplot as plt"
   ]
  },
  {
   "cell_type": "code",
   "execution_count": 4,
   "metadata": {},
   "outputs": [],
   "source": [
    "seed=10\n",
    "np.random.seed(seed)\n",
    "(X_train,y_train), (X_test, y_test)= mnist.load_data()"
   ]
  },
  {
   "cell_type": "code",
   "execution_count": 5,
   "metadata": {},
   "outputs": [],
   "source": [
    "\n",
    "from sklearn.model_selection import train_test_split\n",
    "X_train, X_val, y_train, y_val = train_test_split(X_train, y_train, test_size=0.2, random_state=seed)"
   ]
  },
  {
   "cell_type": "code",
   "execution_count": 6,
   "metadata": {},
   "outputs": [],
   "source": [
    "X_predicts = X_test"
   ]
  },
  {
   "cell_type": "code",
   "execution_count": 7,
   "metadata": {},
   "outputs": [],
   "source": [
    "X_train=X_train.reshape(X_train.shape[0], 1,28,28).astype('float32')\n",
    "X_val=X_val.reshape(X_val.shape[0], 1,28,28).astype('float32')\n",
    "X_test=X_test.reshape(X_test.shape[0], 1,28,28).astype('float32')"
   ]
  },
  {
   "cell_type": "code",
   "execution_count": 8,
   "metadata": {},
   "outputs": [
    {
     "name": "stdout",
     "output_type": "stream",
     "text": [
      "10\n"
     ]
    }
   ],
   "source": [
    "X_train=X_train/255\n",
    "X_val=X_val/255\n",
    "X_test=X_test/255\n",
    "y_train= np_utils.to_categorical(y_train)\n",
    "y_val= np_utils.to_categorical(y_val)\n",
    "num_classes=y_train.shape[1]\n",
    "print(num_classes)"
   ]
  },
  {
   "cell_type": "code",
   "execution_count": 9,
   "metadata": {},
   "outputs": [],
   "source": [
    "def cnn_model():\n",
    "    model=Sequential()\n",
    "    # 32 filter and 5x5\n",
    "    model.add(Conv2D(32,5,5, padding='same',input_shape=(1,28,28), activation='relu'))\n",
    "    # Maxpooling 2x2\n",
    "    model.add(MaxPooling2D(pool_size=(2,2), padding='same'))\n",
    "    # Drop layer 20%\n",
    "    model.add(Dropout(0.2))\n",
    "    model.add(Flatten())\n",
    "    model.add(Dense(128, activation='relu'))\n",
    "    model.add(Dense(num_classes, activation='softmax'))\n",
    "    model.compile(loss='categorical_crossentropy', optimizer='adam', metrics=['accuracy'])\n",
    "    return model"
   ]
  },
  {
   "cell_type": "code",
   "execution_count": 10,
   "metadata": {},
   "outputs": [
    {
     "name": "stdout",
     "output_type": "stream",
     "text": [
      "Epoch 1/10\n",
      "240/240 - 4s - loss: 0.8561 - accuracy: 0.7400 - val_loss: 0.3389 - val_accuracy: 0.9001 - 4s/epoch - 18ms/step\n",
      "Epoch 2/10\n",
      "240/240 - 3s - loss: 0.3673 - accuracy: 0.8860 - val_loss: 0.2377 - val_accuracy: 0.9289 - 3s/epoch - 14ms/step\n",
      "Epoch 3/10\n",
      "240/240 - 3s - loss: 0.2968 - accuracy: 0.9081 - val_loss: 0.2031 - val_accuracy: 0.9367 - 3s/epoch - 12ms/step\n",
      "Epoch 4/10\n",
      "240/240 - 3s - loss: 0.2597 - accuracy: 0.9203 - val_loss: 0.1772 - val_accuracy: 0.9448 - 3s/epoch - 12ms/step\n",
      "Epoch 5/10\n",
      "240/240 - 3s - loss: 0.2341 - accuracy: 0.9277 - val_loss: 0.1606 - val_accuracy: 0.9516 - 3s/epoch - 10ms/step\n",
      "Epoch 6/10\n",
      "240/240 - 3s - loss: 0.2166 - accuracy: 0.9323 - val_loss: 0.1514 - val_accuracy: 0.9522 - 3s/epoch - 10ms/step\n",
      "Epoch 7/10\n",
      "240/240 - 3s - loss: 0.2033 - accuracy: 0.9367 - val_loss: 0.1376 - val_accuracy: 0.9579 - 3s/epoch - 11ms/step\n",
      "Epoch 8/10\n",
      "240/240 - 3s - loss: 0.1944 - accuracy: 0.9397 - val_loss: 0.1373 - val_accuracy: 0.9561 - 3s/epoch - 13ms/step\n",
      "Epoch 9/10\n",
      "240/240 - 3s - loss: 0.1837 - accuracy: 0.9429 - val_loss: 0.1268 - val_accuracy: 0.9586 - 3s/epoch - 12ms/step\n",
      "Epoch 10/10\n",
      "240/240 - 3s - loss: 0.1754 - accuracy: 0.9449 - val_loss: 0.1246 - val_accuracy: 0.9602 - 3s/epoch - 13ms/step\n",
      "The error is: 3.98%\n"
     ]
    }
   ],
   "source": [
    "model=cnn_model()\n",
    "model.fit(X_train, y_train, validation_data=(X_val,y_val),epochs=10, batch_size=200, verbose=2)\n",
    "score= model.evaluate(X_val, y_val, verbose=0)\n",
    "print('The error is: %.2f%%'%(100-score[1]*100))"
   ]
  },
  {
   "cell_type": "code",
   "execution_count": 11,
   "metadata": {},
   "outputs": [
    {
     "name": "stdout",
     "output_type": "stream",
     "text": [
      "1/1 [==============================] - 0s 197ms/step\n",
      "Du Doan So Trong Hinh La: [8]\n"
     ]
    },
    {
     "data": {
      "text/plain": [
       "<matplotlib.image.AxesImage at 0x211106de890>"
      ]
     },
     "execution_count": 11,
     "metadata": {},
     "output_type": "execute_result"
    },
    {
     "data": {
      "image/png": "[encoded data removed]",
      "text/plain": [
       "<Figure size 640x480 with 1 Axes>"
      ]
     },
     "metadata": {},
     "output_type": "display_data"
    }
   ],
   "source": [
    "index = 800\n",
    "image = X_test[index]\n",
    "image_show = X_predicts[index]\n",
    "image = np.expand_dims(image, axis=0)\n",
    "predicts = model.predict(image)\n",
    "predicted_class = np.argmax(predicts, axis=1)\n",
    "print(\"Du Doan So Trong Hinh La: \"+ str(predicted_class))\n",
    "plt.subplot()\n",
    "plt.imshow(image_show, cmap=plt.get_cmap('gray'))"
   ]
  }
 ],
 "metadata": {
  "kernelspec": {
   "display_name": "env",
   "language": "python",
   "name": "python3"
  },
  "language_info": {
   "codemirror_mode": {
    "name": "ipython",
    "version": 3
   },
   "file_extension": ".py",
   "mimetype": "text/x-python",
   "name": "python",
   "nbconvert_exporter": "python",
   "pygments_lexer": "ipython3",
   "version": "3.10.0rc2"
  }
 },
 "nbformat": 4,
 "nbformat_minor": 2
}
